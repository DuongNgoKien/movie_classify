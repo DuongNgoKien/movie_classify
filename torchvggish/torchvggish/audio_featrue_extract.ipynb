{
 "cells": [
  {
   "cell_type": "markdown",
   "metadata": {},
   "source": [
    "mp4 to wav"
   ]
  },
  {
   "cell_type": "code",
   "execution_count": 21,
   "metadata": {},
   "outputs": [
    {
     "name": "stdout",
     "output_type": "stream",
     "text": [
      "convert mp4 to wav : /home/www/data/data/saigonmusic/Dev_AI/kiendn/pytorch-i3d/data/videos/About.Time.2013__#00-01-45_00-02-15_label_A.mp4\n",
      "convert mp4 to wav : /home/www/data/data/saigonmusic/Dev_AI/kiendn/pytorch-i3d/data/videos/Deadpool.2016__#01-00-11_01-00-24_label_B1-0-0.mp4\n"
     ]
    },
    {
     "name": "stderr",
     "output_type": "stream",
     "text": [
      "ffmpeg version 4.0.2 Copyright (c) 2000-2018 the FFmpeg developers\n",
      "  built with gcc 4.8.2 (GCC) 20140120 (Red Hat 4.8.2-15)\n",
      "  configuration: --prefix=/home/ubuntu/miniconda3/envs/manhvd --disable-doc --disable-openssl --enable-shared --enable-static --extra-cflags='-Wall -g -m64 -pipe -O3 -march=x86-64 -fPIC' --extra-cxxflags='-Wall -g -m64 -pipe -O3 -march=x86-64 -fPIC' --extra-libs='-lpthread -lm -lz' --enable-zlib --enable-pic --enable-pthreads --enable-gpl --enable-version3 --enable-hardcoded-tables --enable-avresample --enable-libfreetype --enable-gnutls --enable-libx264 --enable-libopenh264\n",
      "  libavutil      56. 14.100 / 56. 14.100\n",
      "  libavcodec     58. 18.100 / 58. 18.100\n",
      "  libavformat    58. 12.100 / 58. 12.100\n",
      "  libavdevice    58.  3.100 / 58.  3.100\n",
      "  libavfilter     7. 16.100 /  7. 16.100\n",
      "  libavresample   4.  0.  0 /  4.  0.  0\n",
      "  libswscale      5.  1.100 /  5.  1.100\n",
      "  libswresample   3.  1.100 /  3.  1.100\n",
      "  libpostproc    55.  1.100 / 55.  1.100\n",
      "ffmpeg version 4.0.2 Copyright (c) 2000-2018 the FFmpeg developers\n",
      "  built with gcc 4.8.2 (GCC) 20140120 (Red Hat 4.8.2-15)\n",
      "  configuration: --prefix=/home/ubuntu/miniconda3/envs/manhvd --disable-doc --disable-openssl --enable-shared --enable-static --extra-cflags='-Wall -g -m64 -pipe -O3 -march=x86-64 -fPIC' --extra-cxxflags='-Wall -g -m64 -pipe -O3 -march=x86-64 -fPIC' --extra-libs='-lpthread -lm -lz' --enable-zlib --enable-pic --enable-pthreads --enable-gpl --enable-version3 --enable-hardcoded-tables --enable-avresample --enable-libfreetype --enable-gnutls --enable-libx264 --enable-libopenh264\n",
      "  libavutil      56. 14.100 / 56. 14.100\n",
      "  libavcodec     58. 18.100 / 58. 18.100\n",
      "  libavformat    58. 12.100 / 58. 12.100\n",
      "  libavdevice    58.  3.100 / 58.  3.100\n",
      "  libavfilter     7. 16.100 /  7. 16.100\n",
      "  libavresample   4.  0.  0 /  4.  0.  0\n",
      "  libswscale      5.  1.100 /  5.  1.100\n",
      "  libswresample   3.  1.100 /  3.  1.100\n",
      "  libpostproc    55.  1.100 / 55.  1.100\n",
      "Guessed Channel Layout for Input Stream #0.1 : 5.1\n",
      "Input #0, mov,mp4,m4a,3gp,3g2,mj2, from '/home/www/data/data/saigonmusic/Dev_AI/kiendn/pytorch-i3d/data/videos/Deadpool.2016__#01-00-11_01-00-24_label_B1-0-0.mp4':\n",
      "  Metadata:\n",
      "    major_brand     : isom\n",
      "    minor_version   : 512\n",
      "    compatible_brands: isomiso2avc1mp41\n",
      "    encoder         : Lavf58.27.103\n",
      "  Duration: 00:00:13.04, start: 0.062000, bitrate: 798 kb/s\n",
      "    Stream #0:0(eng): Video: h264 (High) (avc1 / 0x31637661), yuv420p, 640x360 [SAR 1:1 DAR 16:9], 398 kb/s, 24 fps, 24 tbr, 12288 tbn, 48 tbc (default)\n",
      "    Metadata:\n",
      "      handler_name    : VideoHandler\n",
      "    Stream #0:1(eng): Audio: aac (LC) (mp4a / 0x6134706D), 48000 Hz, 5.1, fltp, 394 kb/s (default)\n",
      "    Metadata:\n",
      "      handler_name    : SoundHandler\n",
      "Guessed Channel Layout for Input Stream #0.1 : 5.1\n",
      "Input #0, mov,mp4,m4a,3gp,3g2,mj2, from '/home/www/data/data/saigonmusic/Dev_AI/kiendn/pytorch-i3d/data/videos/About.Time.2013__#00-01-45_00-02-15_label_A.mp4':\n",
      "  Metadata:\n",
      "    major_brand     : isom\n",
      "    minor_version   : 512\n",
      "    compatible_brands: isomiso2avc1mp41\n",
      "    encoder         : Lavf58.12.100\n",
      "  Duration: 02:01:37.14, start: 0.062000, bitrate: 3 kb/s\n",
      "    Chapter #0:0: start 0.000000, end 133.071000\n",
      "    Metadata:\n",
      "      title           : Chapter 1\n",
      "    Chapter #0:1: start 133.071000, end 506.903000\n",
      "    Metadata:\n",
      "      title           : Chapter 2\n",
      "    Chapter #0:2: start 506.903000, end 941.295000\n",
      "    Metadata:\n",
      "      title           : Chapter 3\n",
      "    Chapter #0:3: start 941.295000, end 1133.112000\n",
      "    Metadata:\n",
      "      title           : Chapter 4\n",
      "    Chapter #0:4: start 1133.112000, end 1459.396000\n",
      "    Metadata:\n",
      "      title           : Chapter 5\n",
      "    Chapter #0:5: start 1459.396000, end 1859.004000\n",
      "    Metadata:\n",
      "      title           : Chapter 6\n",
      "    Chapter #0:6: start 1859.004000, end 2321.591000\n",
      "    Metadata:\n",
      "      title           : Chapter 7\n",
      "    Chapter #0:7: start 2321.591000, end 2612.965000\n",
      "    Metadata:\n",
      "      title           : Chapter 8\n",
      "    Chapter #0:8: start 2612.965000, end 2878.439000\n",
      "    Metadata:\n",
      "      title           : Chapter 9\n",
      "    Chapter #0:9: start 2878.439000, end 3185.871000\n",
      "    Metadata:\n",
      "      title           : Chapter 10\n",
      "    Chapter #0:10: start 3185.871000, end 3719.529000\n",
      "    Metadata:\n",
      "      title           : Chapter 11\n",
      "    Chapter #0:11: start 3719.529000, end 4064.374000\n",
      "    Metadata:\n",
      "      title           : Chapter 12\n",
      "    Chapter #0:12: start 4064.374000, end 4483.000000\n",
      "    Metadata:\n",
      "      title           : Chapter 13\n",
      "    Chapter #0:13: start 4483.000000, end 4790.724000\n",
      "    Metadata:\n",
      "      title           : Chapter 14\n",
      "    Chapter #0:14: start 4790.724000, end 5139.448000\n",
      "    Metadata:\n",
      "      title           : Chapter 15\n",
      "    Chapter #0:15: start 5139.448000, end 5587.812000\n",
      "    Metadata:\n",
      "      title           : Chapter 16\n",
      "    Chapter #0:16: start 5587.812000, end 6123.848000\n",
      "    Metadata:\n",
      "      title           : Chapter 17\n",
      "    Chapter #0:17: start 6123.848000, end 6467.316000\n",
      "    Metadata:\n",
      "      title           : Chapter 18\n",
      "    Chapter #0:18: start 6467.316000, end 6918.141000\n",
      "    Metadata:\n",
      "      title           : Chapter 19\n",
      "    Chapter #0:19: start 6918.141000, end 7297.144000\n",
      "    Metadata:\n",
      "      title           : Chapter 20\n",
      "    Stream #0:0(eng): Video: h264 (High) (avc1 / 0x31637661), yuv420p, 640x266 [SAR 266:267 DAR 640:267], 473 kb/s, 24 fps, 24 tbr, 12288 tbn, 48 tbc (default)\n",
      "    Metadata:\n",
      "      handler_name    : VideoHandler\n",
      "    Stream #0:1(eng): Audio: aac (LC) (mp4a / 0x6134706D), 48000 Hz, 5.1, fltp, 394 kb/s (default)\n",
      "    Metadata:\n",
      "      handler_name    : SoundHandler\n",
      "    Stream #0:2(eng): Data: bin_data (text / 0x74786574)\n",
      "    Metadata:\n",
      "      handler_name    : SubtitleHandler\n",
      "File '/home/www/data/data/saigonmusic/Dev_AI/kiendn/pytorch-i3d/data/audios/About.Time.2013__#00-01-45_00-02-15_label_A.wav' already exists. Overwrite ? [y/N] Stream mapping:\n",
      "  Stream #0:1 -> #0:0 (aac (native) -> pcm_s16le (native))\n",
      "Press [q] to stop, [?] for help\n",
      "Output #0, wav, to '/home/www/data/data/saigonmusic/Dev_AI/kiendn/pytorch-i3d/data/audios/Deadpool.2016__#01-00-11_01-00-24_label_B1-0-0.wav':\n",
      "  Metadata:\n",
      "    major_brand     : isom\n",
      "    minor_version   : 512\n",
      "    compatible_brands: isomiso2avc1mp41\n",
      "    ISFT            : Lavf58.12.100\n",
      "    Stream #0:0(eng): Audio: pcm_s16le ([1][0][0][0] / 0x0001), 16000 Hz, mono, s16, 256 kb/s (default)\n",
      "    Metadata:\n",
      "      handler_name    : SoundHandler\n",
      "      encoder         : Lavc58.18.100 pcm_s16le\n",
      "size=     407kB time=00:00:13.03 bitrate= 256.0kbits/s speed= 237x    \n",
      "video:0kB audio:407kB subtitle:0kB other streams:0kB global headers:0kB muxing overhead: 0.018700%\n"
     ]
    }
   ],
   "source": []
  },
  {
   "cell_type": "code",
   "execution_count": 5,
   "metadata": {},
   "outputs": [
    {
     "name": "stdout",
     "output_type": "stream",
     "text": [
      "/home/www/data/data/saigonmusic\n"
     ]
    }
   ],
   "source": [
    "%pwd\n",
    "%cd ../.."
   ]
  },
  {
   "cell_type": "code",
   "execution_count": 5,
   "metadata": {},
   "outputs": [
    {
     "name": "stdout",
     "output_type": "stream",
     "text": [
      "/home/www/data/data/saigonmusic/Dev_AI/kiendn\n"
     ]
    }
   ],
   "source": [
    "cd /home/www/data/data/saigonmusic/Dev_AI/kiendn/"
   ]
  },
  {
   "cell_type": "code",
   "execution_count": 6,
   "metadata": {},
   "outputs": [
    {
     "data": {
      "text/plain": [
       "'/home/www/data/data/saigonmusic/Dev_AI/kiendn'"
      ]
     },
     "execution_count": 6,
     "metadata": {},
     "output_type": "execute_result"
    }
   ],
   "source": [
    "pwd"
   ]
  },
  {
   "cell_type": "code",
   "execution_count": 22,
   "metadata": {},
   "outputs": [
    {
     "name": "stdout",
     "output_type": "stream",
     "text": [
      "[saved list]\n",
      "/home/www/data/data/saigonmusic/Dev_AI/kiendn/pytorch-i3d/data/audio_features/About.Time.2013__#00-01-45_00-02-15_label_A.npy\n",
      "/home/www/data/data/saigonmusic/Dev_AI/kiendn/pytorch-i3d/data/audio_features/Deadpool.2016__#01-00-11_01-00-24_label_B1-0-0.npy\n"
     ]
    },
    {
     "ename": "",
     "evalue": "",
     "output_type": "error",
     "traceback": [
      "\u001b[1;31mThe Kernel crashed while executing code in the the current cell or a previous cell. Please review the code in the cell(s) to identify a possible cause of the failure. Click <a href='https://aka.ms/vscodeJupyterKernelCrash'>here</a> for more info. View Jupyter <a href='command:jupyter.viewOutput'>log</a> for further details."
     ]
    }
   ],
   "source": [
    "from torchvggish.torchvggish import vggish\n",
    "import numpy as np\n",
    "import glob\n",
    "import os\n",
    "import numpy as np\n",
    "\n",
    "audio_path = '/home/www/data/data/saigonmusic/Dev_AI/kiendn/pytorch-i3d/data/audios'\n",
    "files = glob.glob(audio_path + '/*.wav')\n",
    "file_name_list = os.listdir(audio_path)\n",
    "\n",
    "feature_save_path = '/home/www/data/data/saigonmusic/Dev_AI/kiendn/pytorch-i3d/data/audio_features'\n",
    "\n",
    "# Initialise model and download weights\n",
    "model_urls = {\n",
    "    'vggish': 'https://github.com/harritaylor/torchvggish/'\n",
    "    'releases/download/v0.1/vggish-10086976.pth',\n",
    "    'pca': 'https://github.com/harritaylor/torchvggish/'\n",
    "    'releases/download/v0.1/vggish_pca_params-970ea276.pth'\n",
    "    }\n",
    "embedding_model = vggish.VGGish(urls=model_urls, postprocess=False)\n",
    "embedding_model.eval()\n",
    "\n",
    "print(\"[saved list]\")\n",
    "saved_list = []\n",
    "for audio, audio_name in zip(files, file_name_list):\n",
    "    embeddings = embedding_model.forward(audio)\n",
    "    np.save(os.path.join(feature_save_path, audio_name[:-4]),embeddings.detach().cpu().numpy())\n",
    "    print(os.path.join(feature_save_path, audio_name[:-4])+\".npy\")\n",
    "    saved_list.append(os.path.join(feature_save_path, audio_name[:-4])+\".npy\")"
   ]
  },
  {
   "cell_type": "code",
   "execution_count": 7,
   "metadata": {},
   "outputs": [],
   "source": [
    "import torchvggish"
   ]
  },
  {
   "cell_type": "code",
   "execution_count": 13,
   "metadata": {},
   "outputs": [
    {
     "name": "stdout",
     "output_type": "stream",
     "text": [
      "About.Time.2013__#00-01-45_00-02-15_label_A.npy - (45, 128)\n"
     ]
    }
   ],
   "source": [
    "for sample in saved_list:\n",
    "    data = np.load(sample)\n",
    "    print(f'{sample[len(feature_save_path)+1:]} - {data.shape}')"
   ]
  },
  {
   "cell_type": "code",
   "execution_count": 20,
   "metadata": {},
   "outputs": [
    {
     "data": {
      "text/plain": [
       "array([0.        , 0.06540971, 0.18806852, 0.        , 0.07842884,\n",
       "       0.46104783, 0.        , 0.        , 0.        , 0.        ,\n",
       "       0.        , 0.        , 0.        , 0.        , 0.        ,\n",
       "       0.3276356 , 0.        , 0.01197901, 0.42591476, 0.23403326,\n",
       "       0.13814642, 0.        , 0.        , 0.        , 0.15956235,\n",
       "       0.        , 0.        , 0.        , 0.        , 0.        ,\n",
       "       0.        , 0.72678167, 0.        , 0.23157245, 0.3735264 ,\n",
       "       0.        , 0.        , 0.        , 0.        , 0.        ,\n",
       "       0.42658293, 0.        , 0.        , 0.        , 0.        ,\n",
       "       0.        , 0.34848222, 0.236429  , 0.54557693, 0.29440367,\n",
       "       0.07180421, 0.        , 0.        , 0.        , 0.15569279,\n",
       "       0.        , 0.17619509, 0.        , 0.        , 0.04485441,\n",
       "       0.47730672, 0.        , 0.5230136 , 0.01496523, 0.        ,\n",
       "       0.        , 0.        , 0.        , 0.05132865, 0.96115565,\n",
       "       0.09058689, 0.51473737, 0.        , 0.        , 0.        ,\n",
       "       0.        , 0.        , 0.18783295, 0.3824581 , 0.59018   ,\n",
       "       0.        , 0.23161012, 0.        , 0.00134175, 0.14066252,\n",
       "       0.03547293, 0.        , 0.        , 0.        , 0.        ,\n",
       "       0.        , 0.50396436, 0.        , 0.6648527 , 0.47492915,\n",
       "       0.31488663, 0.        , 0.        , 0.        , 0.        ,\n",
       "       0.        , 0.31930685, 0.19954851, 0.22545238, 0.149336  ,\n",
       "       0.        , 0.02930194, 0.        , 0.        , 0.44567856,\n",
       "       0.        , 0.        , 0.16260956, 0.        , 0.        ,\n",
       "       0.        , 0.        , 0.15283817, 0.        , 0.4785143 ,\n",
       "       0.        , 0.65221715, 0.        , 0.3380289 , 0.5764105 ,\n",
       "       0.        , 0.15717757, 0.        ], dtype=float32)"
      ]
     },
     "execution_count": 20,
     "metadata": {},
     "output_type": "execute_result"
    }
   ],
   "source": [
    "data[0]"
   ]
  },
  {
   "cell_type": "code",
   "execution_count": 14,
   "metadata": {},
   "outputs": [],
   "source": [
    "a = np.load('/home/www/data/data/saigonmusic/Dev_AI/kiendn/features/vggish-features/train/About.Time.2013__#00-01-45_00-02-15_label_A__vggish.npy')"
   ]
  },
  {
   "cell_type": "code",
   "execution_count": 19,
   "metadata": {},
   "outputs": [
    {
     "data": {
      "text/plain": [
       "array([0.        , 0.08795813, 0.11639826, 0.        , 0.21176782,\n",
       "       0.19172978, 0.        , 0.        , 0.        , 0.        ,\n",
       "       0.        , 0.        , 0.        , 0.        , 0.        ,\n",
       "       0.31324196, 0.        , 0.08824342, 0.48342067, 0.54157627,\n",
       "       0.17898214, 0.        , 0.03854181, 0.        , 0.2151585 ,\n",
       "       0.02361074, 0.        , 0.00714182, 0.        , 0.        ,\n",
       "       0.        , 0.9825068 , 0.        , 0.37736663, 0.23629092,\n",
       "       0.        , 0.        , 0.        , 0.        , 0.        ,\n",
       "       0.15354538, 0.        , 0.        , 0.        , 0.06695028,\n",
       "       0.        , 0.5555763 , 0.03143975, 0.23904046, 0.08344969,\n",
       "       0.14628185, 0.        , 0.        , 0.        , 0.15860543,\n",
       "       0.        , 0.164312  , 0.        , 0.        , 0.00427277,\n",
       "       0.5731179 , 0.04653423, 0.22510141, 0.        , 0.        ,\n",
       "       0.        , 0.        , 0.        , 0.08863762, 0.48673368,\n",
       "       0.20598939, 0.55878836, 0.        , 0.        , 0.        ,\n",
       "       0.        , 0.        , 0.37797305, 0.8402939 , 0.6414889 ,\n",
       "       0.        , 0.03306201, 0.        , 0.06876582, 0.        ,\n",
       "       0.0145846 , 0.        , 0.        , 0.        , 0.        ,\n",
       "       0.        , 0.41275686, 0.        , 0.35669756, 0.6727582 ,\n",
       "       0.38404274, 0.        , 0.        , 0.        , 0.21068946,\n",
       "       0.08407926, 0.14294603, 0.13748084, 0.50338256, 0.02633595,\n",
       "       0.        , 0.20751299, 0.        , 0.01008224, 0.03153976,\n",
       "       0.        , 0.        , 0.1235311 , 0.        , 0.        ,\n",
       "       0.        , 0.        , 0.26437998, 0.        , 0.32482278,\n",
       "       0.        , 0.73211926, 0.0340652 , 0.16893794, 0.23386055,\n",
       "       0.        , 0.11262293, 0.        ], dtype=float32)"
      ]
     },
     "execution_count": 19,
     "metadata": {},
     "output_type": "execute_result"
    }
   ],
   "source": [
    "a[0]"
   ]
  }
 ],
 "metadata": {
  "interpreter": {
   "hash": "d4d1e4263499bec80672ea0156c357c1ee493ec2b1c70f0acce89fc37c4a6abe"
  },
  "kernelspec": {
   "display_name": "Python 3.8.5 ('base')",
   "language": "python",
   "name": "python3"
  },
  "language_info": {
   "codemirror_mode": {
    "name": "ipython",
    "version": 3
   },
   "file_extension": ".py",
   "mimetype": "text/x-python",
   "name": "python",
   "nbconvert_exporter": "python",
   "pygments_lexer": "ipython3",
   "version": "3.10.11"
  },
  "orig_nbformat": 4
 },
 "nbformat": 4,
 "nbformat_minor": 2
}
